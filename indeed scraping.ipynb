{
 "cells": [
  {
   "attachments": {},
   "cell_type": "markdown",
   "metadata": {},
   "source": [
    "# Data jobs Salary"
   ]
  },
  {
   "attachments": {},
   "cell_type": "markdown",
   "metadata": {},
   "source": [
    "## Organization\n",
    "- In this phase need to view the data avaliable and think in the problem or think in the problem and get the data. \n",
    "- Brainstorm: you interested in that or your audience is interest on that.\n",
    "- Data science: carrers, resumes, types of positions. Salary. Job title, companing, open jobs, Experience level.\n",
    "- Datasets: Clean and Public -> Datasets sites (kaggle, google). Clean and Private -> request APIs.\n",
    "- Glassdoor, LinkedIn, Indeed. \n",
    "- Data scientist, Data analyst, Data engineer."
   ]
  },
  {
   "attachments": {},
   "cell_type": "markdown",
   "metadata": {},
   "source": [
    "#rating, date"
   ]
  },
  {
   "cell_type": "code",
   "execution_count": null,
   "metadata": {},
   "outputs": [],
   "source": [
    "from selenium import webdriver\n",
    "import time \n",
    "from selenium.webdriver.common.by import By\n",
    "from selenium.webdriver.support.ui import WebDriverWait\n",
    "from selenium.webdriver.support import expected_conditions as EC\n",
    "from bs4 import BeautifulSoup\n",
    "driver = webdriver.Chrome()\n",
    "jobs=[]\n",
    "# Find the job listings using BeautifulSoup\n",
    "for page in range(0,4):\n",
    "    url = f\"https://br.indeed.com/jobs?q=data+scientist&amp;l=Brasil&amp;start={page}0\"\n",
    "    driver.get(url)\n",
    "    time.sleep(10)\n",
    "    html = driver.page_source\n",
    "    soup = BeautifulSoup(html, 'html.parser')\n",
    "    # if page >1:\n",
    "    #     close_button = driver.find_element(By.CLASS_NAME, \"SVGInline-svg.modal_closeIcon-svg\")\n",
    "    #     close_button.click()\n",
    "    # else: \n",
    "    #     pass\n",
    "    job_listings = soup.select('div[class*=\"mosaic-zone\"]')\n",
    "#     for job_elem in job_listings:\n",
    "#         title = job_elem.find_all('a')[-1].span.text if job_elem.find_all('a')[-1] else ''\n",
    "#         company = job_elem.find('a',class_='css-l2wjgv').span.text if job_elem.find('a',class_='css-l2wjgv') else ''\n",
    "#         location = job_elem.find('span', {'data-test': 'emp-location'}).text if job_elem.find('span', {'data-test': 'emp-location'}).text else ''\n",
    "#         salary = job_elem.find('span',class_='css-1xe2xww').text if job_elem.find('span',class_='css-1xe2xww') else ''   \n",
    "#         job_url = \"https://www.glassdoor.com/\" + job_elem.find_all('a')[-1].get('href')\n",
    "#         driver.get(job_url)  # navigate to job page\n",
    "#         time.sleep(8)\n",
    "#         job_html = driver.page_source\n",
    "#         job_soup = BeautifulSoup(job_html, 'html.parser')\n",
    "#         job_descript = job_soup.find('div',{'class': 'desc'}).text if job_soup.find('div',{'class': 'desc'}).text else ''\n",
    "#         jobs.append({\n",
    "#             'title': title,\n",
    "#             'company': company,\n",
    "#             'location': location,\n",
    "#             'salary': salary,\n",
    "#             'description': job_descript,\n",
    "#         })\n",
    "# # Close the webdriver object\n",
    "driver.quit()\n",
    "# jobs"
   ]
  },
  {
   "cell_type": "code",
   "execution_count": null,
   "metadata": {},
   "outputs": [],
   "source": [
    "job_listings[0].find('ul')"
   ]
  },
  {
   "cell_type": "code",
   "execution_count": 24,
   "metadata": {},
   "outputs": [],
   "source": [
    "job = soup.find_all('div', {'class': 'mosaic-provider-jobcards'})"
   ]
  },
  {
   "cell_type": "code",
   "execution_count": 35,
   "metadata": {},
   "outputs": [
    {
     "data": {
      "text/plain": [
       "'Data Engineer - Insights and Analytics'"
      ]
     },
     "execution_count": 35,
     "metadata": {},
     "output_type": "execute_result"
    }
   ],
   "source": [
    "job[0].find('a').span.text"
   ]
  },
  {
   "cell_type": "code",
   "execution_count": null,
   "metadata": {},
   "outputs": [],
   "source": [
    "job = soup.select('div[class*=\"cardOutline\"]')[5]"
   ]
  },
  {
   "cell_type": "code",
   "execution_count": 103,
   "metadata": {},
   "outputs": [
    {
     "name": "stdout",
     "output_type": "stream",
     "text": [
      "Apple\n",
      "4,1\n"
     ]
    }
   ],
   "source": [
    "print(job.find('span',class_= \"companyName\").text)\n",
    "print(job.find('span',class_= \"ratingNumber\").text)"
   ]
  },
  {
   "cell_type": "code",
   "execution_count": 120,
   "metadata": {},
   "outputs": [
    {
     "data": {
      "text/plain": [
       "'/rc/clk?jk=b205788f923a8a0c&fccid=8b1f8c5c498fc5cf&vjs=3'"
      ]
     },
     "execution_count": 120,
     "metadata": {},
     "output_type": "execute_result"
    }
   ],
   "source": [
    "job.find('a')['href']"
   ]
  },
  {
   "cell_type": "code",
   "execution_count": null,
   "metadata": {},
   "outputs": [],
   "source": [
    "from selenium import webdriver\n",
    "import time\n",
    "from bs4 import BeautifulSoup\n",
    "import random \n",
    "\n",
    "driver = webdriver.Chrome()\n",
    "jobs=[]\n",
    "# Find the job listings using BeautifulSoup\n",
    "for page in range(0,4):\n",
    "    url = f\"https://www.glassdoor.com/Job/data-scientist-jobs-SRCH_KO0,14_IP{page}.htm\"\n",
    "    driver.get(url)\n",
    "    time.sleep(10)\n",
    "    html = driver.page_source\n",
    "    soup = BeautifulSoup(html, 'html.parser')\n",
    "    if page >1:\n",
    "        close_button = driver.find_element(By.CLASS_NAME, \"SVGInline-svg.modal_closeIcon-svg\")\n",
    "        close_button.click()\n",
    "    else: \n",
    "        pass\n",
    "    job_listings = soup.select('li[class*=\"react-job-listing\"]')\n",
    "    for job_elem in job_listings:\n",
    "        title = job_elem.find_all('a')[-1].span.text if job_elem.find_all('a')[-1] else ''\n",
    "        company = job_elem.find('a',class_='css-l2wjgv').span.text if job_elem.find('a',class_='css-l2wjgv') else ''\n",
    "        location = job_elem.find('span', {'data-test': 'emp-location'}).text if job_elem.find('span', {'data-test': 'emp-location'}).text else ''\n",
    "        salary = job_elem.find('span',class_='css-1xe2xww').text if job_elem.find('span',class_='css-1xe2xww') else ''   \n",
    "        job_url = \"https://www.glassdoor.com/\" + job_elem.find_all('a')[-1].get('href')\n",
    "        driver.get(job_url)  # navigate to job page\n",
    "        time.sleep(8)\n",
    "        job_html = driver.page_source\n",
    "        job_soup = BeautifulSoup(job_html, 'html.parser')\n",
    "        job_descript = job_soup.find('div',{'class': 'desc'}).text if job_soup.find('div',{'class': 'desc'}).text else ''\n",
    "        jobs.append({\n",
    "            'title': title,\n",
    "            'company': company,\n",
    "            'location': location,\n",
    "            'salary': salary,\n",
    "            'description': job_descript,\n",
    "        })\n",
    "# Close the webdriver object\n",
    "driver.quit()\n",
    "jobs"
   ]
  },
  {
   "cell_type": "code",
   "execution_count": null,
   "metadata": {},
   "outputs": [],
   "source": [
    "for i in range(len(job.find_all('span'))):\n",
    "    print(f\"{i} {job.find_all('span')[i].text}\")"
   ]
  },
  {
   "cell_type": "code",
   "execution_count": 8,
   "metadata": {},
   "outputs": [
    {
     "ename": "FeatureNotFound",
     "evalue": "Couldn't find a tree builder with the features you requested: html.parser. Do you need to install a parser library?",
     "output_type": "error",
     "traceback": [
      "\u001b[1;31m---------------------------------------------------------------------------\u001b[0m",
      "\u001b[1;31mFeatureNotFound\u001b[0m                           Traceback (most recent call last)",
      "\u001b[1;32m~\\AppData\\Local\\Temp\\ipykernel_7784\\2850052089.py\u001b[0m in \u001b[0;36m<module>\u001b[1;34m\u001b[0m\n\u001b[0;32m     11\u001b[0m \u001b[0mtime\u001b[0m\u001b[1;33m.\u001b[0m\u001b[0msleep\u001b[0m\u001b[1;33m(\u001b[0m\u001b[1;36m20\u001b[0m\u001b[1;33m)\u001b[0m\u001b[1;33m\u001b[0m\u001b[1;33m\u001b[0m\u001b[0m\n\u001b[0;32m     12\u001b[0m \u001b[0mhtml\u001b[0m \u001b[1;33m=\u001b[0m \u001b[0mdriver\u001b[0m\u001b[1;33m.\u001b[0m\u001b[0mpage_source\u001b[0m\u001b[1;33m\u001b[0m\u001b[1;33m\u001b[0m\u001b[0m\n\u001b[1;32m---> 13\u001b[1;33m \u001b[0msoup\u001b[0m \u001b[1;33m=\u001b[0m \u001b[0mBeautifulSoup\u001b[0m\u001b[1;33m(\u001b[0m\u001b[0mhtml\u001b[0m\u001b[1;33m,\u001b[0m \u001b[1;34m'html.parser'\u001b[0m\u001b[1;33m)\u001b[0m\u001b[1;33m\u001b[0m\u001b[1;33m\u001b[0m\u001b[0m\n\u001b[0m\u001b[0;32m     14\u001b[0m     \u001b[1;31m# if page >1:\u001b[0m\u001b[1;33m\u001b[0m\u001b[1;33m\u001b[0m\u001b[0m\n\u001b[0;32m     15\u001b[0m     \u001b[1;31m#     close_button = driver.find_element(By.CLASS_NAME, \"SVGInline-svg.modal_closeIcon-svg\")\u001b[0m\u001b[1;33m\u001b[0m\u001b[1;33m\u001b[0m\u001b[0m\n",
      "\u001b[1;32mc:\\Users\\ygorf\\anaconda3\\lib\\site-packages\\bs4\\__init__.py\u001b[0m in \u001b[0;36m__init__\u001b[1;34m(self, markup, features, builder, parse_only, from_encoding, exclude_encodings, element_classes, **kwargs)\u001b[0m\n\u001b[0;32m    246\u001b[0m             \u001b[0mbuilder_class\u001b[0m \u001b[1;33m=\u001b[0m \u001b[0mbuilder_registry\u001b[0m\u001b[1;33m.\u001b[0m\u001b[0mlookup\u001b[0m\u001b[1;33m(\u001b[0m\u001b[1;33m*\u001b[0m\u001b[0mfeatures\u001b[0m\u001b[1;33m)\u001b[0m\u001b[1;33m\u001b[0m\u001b[1;33m\u001b[0m\u001b[0m\n\u001b[0;32m    247\u001b[0m             \u001b[1;32mif\u001b[0m \u001b[0mbuilder_class\u001b[0m \u001b[1;32mis\u001b[0m \u001b[1;32mNone\u001b[0m\u001b[1;33m:\u001b[0m\u001b[1;33m\u001b[0m\u001b[1;33m\u001b[0m\u001b[0m\n\u001b[1;32m--> 248\u001b[1;33m                 raise FeatureNotFound(\n\u001b[0m\u001b[0;32m    249\u001b[0m                     \u001b[1;34m\"Couldn't find a tree builder with the features you \"\u001b[0m\u001b[1;33m\u001b[0m\u001b[1;33m\u001b[0m\u001b[0m\n\u001b[0;32m    250\u001b[0m                     \u001b[1;34m\"requested: %s. Do you need to install a parser library?\"\u001b[0m\u001b[1;33m\u001b[0m\u001b[1;33m\u001b[0m\u001b[0m\n",
      "\u001b[1;31mFeatureNotFound\u001b[0m: Couldn't find a tree builder with the features you requested: html.parser. Do you need to install a parser library?"
     ]
    }
   ],
   "source": [
    "from selenium import webdriver\n",
    "import time \n",
    "from selenium.webdriver.support import expected_conditions as EC\n",
    "from bs4 import BeautifulSoup\n",
    "driver = webdriver.Chrome()\n",
    "jobs=[]\n",
    "# Find the job listings using BeautifulSoup\n",
    "# for page in range(0,4):\n",
    "url = f\"https://br.indeed.com/jobs?q=data+scientist&amp;l=Brasil&amp;start=10\"\n",
    "driver.get(url)\n",
    "time.sleep(20)\n",
    "html = driver.page_source\n",
    "soup = BeautifulSoup(html, 'html.parser')\n",
    "    # if page >1:\n",
    "    #     close_button = driver.find_element(By.CLASS_NAME, \"SVGInline-svg.modal_closeIcon-svg\")\n",
    "    #     close_button.click()\n",
    "    # else: \n",
    "    #     pass\n",
    "job_listings = soup.select('div[class*=\"cardOutline\"]')\n",
    "for job_elem in job_listings:\n",
    "    title = job_elem.find('a').span.text if job_elem.find('a').span.text else ''\n",
    "    company = job_elem.find('span',class_= \"companyName\").text if job_elem.find('span',class_= \"companyName\") else ''\n",
    "    rating = job_elem.find('span',class_= \"ratingNumber\").text if job_elem.find('span',class_= \"ratingNumber\") else ''\n",
    "    date = job_elem.find('span',class_= \"date\").text if job_elem.find('span',class_= \"date\") else ''\n",
    "    location = job_elem.find('div',class_= \"companyLocation\").text if job_elem.find('div',class_= \"companyLocation\") else ''\n",
    "    job_url = \"https://br.indeed.com\" + job_elem.find('a')['href']\n",
    "    print(job_url)\n",
    "    driver.get(job_url)  # navigate to job page\n",
    "    time.sleep(8)\n",
    "    job_html = driver.page_source\n",
    "    job_soup = BeautifulSoup(job_html, 'html.parser')\n",
    "    job_descript = job_soup.find('div',{'class': 'jobsearch-job'}).text if job_soup.find('div',{'class': 'jobsearch-job'}).text else ''\n",
    "    jobs.append({\n",
    "        'title': title,\n",
    "        'company': company,\n",
    "        'rating':rating,\n",
    "        'date':date,\n",
    "        'location': location,\n",
    "        'description': job_descript,\n",
    "         })\n",
    "# # Close the webdriver object\n",
    "driver.quit()\n",
    "jobs"
   ]
  },
  {
   "cell_type": "code",
   "execution_count": 134,
   "metadata": {},
   "outputs": [
    {
     "data": {
      "text/html": [
       "<div>\n",
       "<style scoped>\n",
       "    .dataframe tbody tr th:only-of-type {\n",
       "        vertical-align: middle;\n",
       "    }\n",
       "\n",
       "    .dataframe tbody tr th {\n",
       "        vertical-align: top;\n",
       "    }\n",
       "\n",
       "    .dataframe thead th {\n",
       "        text-align: right;\n",
       "    }\n",
       "</style>\n",
       "<table border=\"1\" class=\"dataframe\">\n",
       "  <thead>\n",
       "    <tr style=\"text-align: right;\">\n",
       "      <th></th>\n",
       "      <th>title</th>\n",
       "      <th>company</th>\n",
       "      <th>location</th>\n",
       "      <th>salary</th>\n",
       "      <th>description</th>\n",
       "    </tr>\n",
       "  </thead>\n",
       "  <tbody>\n",
       "    <tr>\n",
       "      <th>0</th>\n",
       "      <td>Junior Data Scientist</td>\n",
       "      <td>Midwest Tape</td>\n",
       "      <td>Holland, OH</td>\n",
       "      <td>$70K - $107K (Glassdoor est.)</td>\n",
       "      <td>Full-time, Salary-Exempt\\nMidwest Tape is a li...</td>\n",
       "    </tr>\n",
       "    <tr>\n",
       "      <th>1</th>\n",
       "      <td>Data Scientist, Image Analysis</td>\n",
       "      <td>CALICO</td>\n",
       "      <td>South San Francisco, CA</td>\n",
       "      <td>$99K - $126K (Employer est.)</td>\n",
       "      <td>Who we are:\\n\\nCalico (Calico Life Sciences LL...</td>\n",
       "    </tr>\n",
       "    <tr>\n",
       "      <th>2</th>\n",
       "      <td>Jr. Data Scientist</td>\n",
       "      <td>WhirlWind Technologies, LLC</td>\n",
       "      <td>Remote</td>\n",
       "      <td>$86K - $110K (Employer est.)</td>\n",
       "      <td>Job Title/Level\\nJr. Data Scientist\\nLocation\\...</td>\n",
       "    </tr>\n",
       "    <tr>\n",
       "      <th>3</th>\n",
       "      <td>Data Scientist</td>\n",
       "      <td>Cognira</td>\n",
       "      <td>Atlanta, GA</td>\n",
       "      <td>$83K - $129K (Glassdoor est.)</td>\n",
       "      <td>About us:\\n\\nAt Cognira, we strongly believe t...</td>\n",
       "    </tr>\n",
       "    <tr>\n",
       "      <th>4</th>\n",
       "      <td>Data Scientist Jr. / Physical Scientist Jr.</td>\n",
       "      <td>KFS-LLC</td>\n",
       "      <td>Sterling, VA</td>\n",
       "      <td>$85K - $133K (Glassdoor est.)</td>\n",
       "      <td>JOB DESCRIPTION\\nThe Data Scientist Jr. / Phys...</td>\n",
       "    </tr>\n",
       "    <tr>\n",
       "      <th>5</th>\n",
       "      <td>Data Scientist</td>\n",
       "      <td>Procter &amp; Gamble</td>\n",
       "      <td>Cincinnati, OH</td>\n",
       "      <td>$85K - $115K (Employer est.)</td>\n",
       "      <td>Do you like to apply Data Science in the devel...</td>\n",
       "    </tr>\n",
       "    <tr>\n",
       "      <th>6</th>\n",
       "      <td>Data Scientist</td>\n",
       "      <td>The Travelers Companies, Inc.</td>\n",
       "      <td>Hartford, CT</td>\n",
       "      <td>$122K - $201K (Employer est.)</td>\n",
       "      <td>Who Are We?\\nTaking care of our customers, our...</td>\n",
       "    </tr>\n",
       "    <tr>\n",
       "      <th>7</th>\n",
       "      <td>Applied Data Scientist</td>\n",
       "      <td>Webstaurant Store</td>\n",
       "      <td>Lititz, PA</td>\n",
       "      <td>$70K - $110K (Employer est.)</td>\n",
       "      <td>Job Summary:\\nWebstaurant Store, the world’s l...</td>\n",
       "    </tr>\n",
       "    <tr>\n",
       "      <th>8</th>\n",
       "      <td>Data Scientist</td>\n",
       "      <td>KesarWeb</td>\n",
       "      <td>Columbus, OH</td>\n",
       "      <td>$96K - $103K (Employer est.)</td>\n",
       "      <td>We are looking for a Data Scientist to analyze...</td>\n",
       "    </tr>\n",
       "    <tr>\n",
       "      <th>9</th>\n",
       "      <td>Remote Sensing Data Scientist - REMOTE</td>\n",
       "      <td>Bayer</td>\n",
       "      <td>United States</td>\n",
       "      <td>$116K - $175K (Employer est.)</td>\n",
       "      <td>At Bayer we’re visionaries, driven to solve th...</td>\n",
       "    </tr>\n",
       "  </tbody>\n",
       "</table>\n",
       "</div>"
      ],
      "text/plain": [
       "                                         title                        company  \\\n",
       "0                        Junior Data Scientist                   Midwest Tape   \n",
       "1               Data Scientist, Image Analysis                         CALICO   \n",
       "2                           Jr. Data Scientist    WhirlWind Technologies, LLC   \n",
       "3                               Data Scientist                        Cognira   \n",
       "4  Data Scientist Jr. / Physical Scientist Jr.                        KFS-LLC   \n",
       "5                               Data Scientist               Procter & Gamble   \n",
       "6                               Data Scientist  The Travelers Companies, Inc.   \n",
       "7                       Applied Data Scientist              Webstaurant Store   \n",
       "8                               Data Scientist                       KesarWeb   \n",
       "9       Remote Sensing Data Scientist - REMOTE                          Bayer   \n",
       "\n",
       "                  location                         salary  \\\n",
       "0              Holland, OH  $70K - $107K (Glassdoor est.)   \n",
       "1  South San Francisco, CA   $99K - $126K (Employer est.)   \n",
       "2                   Remote   $86K - $110K (Employer est.)   \n",
       "3              Atlanta, GA  $83K - $129K (Glassdoor est.)   \n",
       "4             Sterling, VA  $85K - $133K (Glassdoor est.)   \n",
       "5           Cincinnati, OH   $85K - $115K (Employer est.)   \n",
       "6             Hartford, CT  $122K - $201K (Employer est.)   \n",
       "7               Lititz, PA   $70K - $110K (Employer est.)   \n",
       "8             Columbus, OH   $96K - $103K (Employer est.)   \n",
       "9            United States  $116K - $175K (Employer est.)   \n",
       "\n",
       "                                         description  \n",
       "0  Full-time, Salary-Exempt\\nMidwest Tape is a li...  \n",
       "1  Who we are:\\n\\nCalico (Calico Life Sciences LL...  \n",
       "2  Job Title/Level\\nJr. Data Scientist\\nLocation\\...  \n",
       "3  About us:\\n\\nAt Cognira, we strongly believe t...  \n",
       "4  JOB DESCRIPTION\\nThe Data Scientist Jr. / Phys...  \n",
       "5  Do you like to apply Data Science in the devel...  \n",
       "6  Who Are We?\\nTaking care of our customers, our...  \n",
       "7  Job Summary:\\nWebstaurant Store, the world’s l...  \n",
       "8  We are looking for a Data Scientist to analyze...  \n",
       "9  At Bayer we’re visionaries, driven to solve th...  "
      ]
     },
     "execution_count": 134,
     "metadata": {},
     "output_type": "execute_result"
    }
   ],
   "source": [
    "import pandas as pd\n",
    "ds_jobs = pd.DataFrame(jobs)\n",
    "ds_jobs"
   ]
  }
 ],
 "metadata": {
  "kernelspec": {
   "display_name": "base",
   "language": "python",
   "name": "python3"
  },
  "language_info": {
   "codemirror_mode": {
    "name": "ipython",
    "version": 3
   },
   "file_extension": ".py",
   "mimetype": "text/x-python",
   "name": "python",
   "nbconvert_exporter": "python",
   "pygments_lexer": "ipython3",
   "version": "3.9.13"
  },
  "orig_nbformat": 4
 },
 "nbformat": 4,
 "nbformat_minor": 2
}
